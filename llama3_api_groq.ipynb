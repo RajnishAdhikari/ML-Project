{
 "cells": [
  {
   "cell_type": "code",
   "execution_count": 1,
   "metadata": {},
   "outputs": [
    {
     "name": "stdout",
     "output_type": "stream",
     "text": [
      "Fast language models have gained significant importance in recent years due to their ability to process and generate large amounts of text data quickly and efficiently. Here are some reasons why fast language models are essential:\n",
      "\n",
      "1. **Scalability**: Fast language models can handle large volumes of text data, making them crucial for applications that require processing massive amounts of text, such as social media monitoring, sentiment analysis, and text classification.\n",
      "2. **Real-time processing**: Fast language models enable real-time processing of text data, which is essential for applications like chatbots, virtual assistants, and natural language processing (NLP) systems. This allows for swift responses to user queries and improved user experience.\n",
      "3. **Efficient inference**: Fast language models can perform inference (i.e., generate text or make predictions) quickly, making them suitable for applications where speed is critical, such as:\n",
      "\t* Sentiment analysis for real-time customer feedback.\n",
      "\t* Text summarization for news articles or social media updates.\n",
      "\t* Language translation for instant communication.\n",
      "4. **Accelerated research**: Fast language models accelerate research in NLP by enabling researchers to quickly train and evaluate models on large datasets, leading to faster iterations and breakthroughs in areas like syntax, semantics, and pragmatics.\n",
      "5. **Improved language understanding**: Fast language models can analyze and understand complex linguistic structures, allowing for better machine learning models that can capture nuances in language, such as context, figurative language, and idioms.\n",
      "6. **Enhanced chatbots and conversational AI**: Fast language models can be used to improve the responsiveness and coherence of chatbots, enabling more natural and human-like conversations.\n",
      "7. **Faster innovation**: The speed and efficiency of fast language models foster innovation in various industries, such as:\n",
      "\t* Education: Improved language learning platforms.\n",
      "\t* Healthcare: Faster diagnosis and treatment planning.\n",
      "\t* Marketing: Real-time customer engagement and sentiment analysis.\n",
      "8. **Cloud and edge computing**: Fast language models can be deployed in cloud and edge computing environments, enabling real-time processing and inference at the edge, closer to the source of the data.\n",
      "9. **Energy efficiency**: By leveraging parallel processing and optimized algorithms, fast language models can reduce energy consumption, making them more environmentally friendly and cost-effective.\n",
      "10. **Foundation for future applications**: Fast language models lay the foundation for more advanced applications, such as:\n",
      "\t* Multimodal processing (image, audio, and text).\n",
      "\t* Multitask learning for enhanced language understanding.\n",
      "\t* Integration with other AI technologies, like computer vision and robotics.\n",
      "\n",
      "In conclusion, fast language models are crucial for industries and applications that require efficient text processing, analysis, and generation. Their impact can be seen across various domains, from chatbots and virtual assistants to healthcare, education, and marketing.\n"
     ]
    }
   ],
   "source": [
    "\n",
    "import os\n",
    "\n",
    "from groq import Groq\n",
    "\n",
    "client = Groq(\n",
    "    api_key=os.environ.get(\"GROQ_API_KEY\"),\n",
    ")\n",
    "\n",
    "chat_completion = client.chat.completions.create(\n",
    "    messages=[\n",
    "        {\n",
    "            \"role\": \"user\",\n",
    "            \"content\": \"Explain the importance of fast language models\",\n",
    "        }\n",
    "    ],\n",
    "    model=\"llama3-8b-8192\",\n",
    ")\n",
    "\n",
    "print(chat_completion.choices[0].message.content)"
   ]
  },
  {
   "cell_type": "code",
   "execution_count": 2,
   "metadata": {},
   "outputs": [
    {
     "name": "stdout",
     "output_type": "stream",
     "text": [
      "Here is an example of how you can add two numbers in Python:\n",
      "```\n",
      "# Define the two numbers\n",
      "number1 = 5\n",
      "number2 = 3\n",
      "\n",
      "# Add the numbers\n",
      "result = number1 + number2\n",
      "\n",
      "# Print the result\n",
      "print(result)  # Output: 8\n",
      "```\n",
      "In this example, we define two variables `number1` and `number2` and assign them the values 5 and 3, respectively. We then add the two numbers using the `+` operator and store the result in a new variable `result`. Finally, we print the result to the console using the `print()` function.\n",
      "\n",
      "You can also use the `input()` function to get the numbers from the user:\n",
      "```\n",
      "# Get the numbers from the user\n",
      "num1 = int(input(\"Enter the first number: \"))\n",
      "num2 = int(input(\"Enter the second number: \"))\n",
      "\n",
      "# Add the numbers\n",
      "result = num1 + num2\n",
      "\n",
      "# Print the result\n",
      "print(\"The result is:\", result)\n",
      "```\n",
      "This code will prompt the user to enter two numbers, add them together, and print the result.\n",
      "\n",
      "You can also use functions to make the code more modular and reusable:\n",
      "```\n",
      "def add_numbers(num1, num2):\n",
      "    return num1 + num2\n",
      "\n",
      "num1 = int(input(\"Enter the first number: \"))\n",
      "num2 = int(input(\"Enter the second number: \"))\n",
      "\n",
      "result = add_numbers(num1, num2)\n",
      "\n",
      "print(\"The result is:\", result)\n",
      "```\n",
      "This code defines a function `add_numbers` that takes two arguments and returns their sum. It then uses this function to add the numbers entered by the user and prints the result.\n"
     ]
    }
   ],
   "source": [
    "import os\n",
    "from groq import Groq\n",
    "\n",
    "# Initialize the Groq client\n",
    "client = Groq(\n",
    "    api_key=os.environ.get(\"GROQ_API_KEY\"),\n",
    ")\n",
    "\n",
    "def ask_question(question, model=\"llama3-8b-8192\"):\n",
    "    chat_completion = client.chat.completions.create(\n",
    "        messages=[\n",
    "            {\n",
    "                \"role\": \"user\",\n",
    "                \"content\": question,\n",
    "            }\n",
    "        ],\n",
    "        model=model,\n",
    "    )\n",
    "    return chat_completion.choices[0].message.content\n",
    "\n",
    "# Main loop to ask questions\n",
    "while True:\n",
    "    question = input(\"Enter your question (or type 'exit' to quit): \")\n",
    "    if question.lower() == 'exit':\n",
    "        break\n",
    "    answer = ask_question(question)\n",
    "    print(answer)\n"
   ]
  },
  {
   "cell_type": "code",
   "execution_count": null,
   "metadata": {},
   "outputs": [],
   "source": []
  },
  {
   "cell_type": "code",
   "execution_count": null,
   "metadata": {},
   "outputs": [],
   "source": []
  },
  {
   "cell_type": "code",
   "execution_count": null,
   "metadata": {},
   "outputs": [],
   "source": []
  },
  {
   "cell_type": "code",
   "execution_count": null,
   "metadata": {},
   "outputs": [],
   "source": []
  },
  {
   "cell_type": "code",
   "execution_count": null,
   "metadata": {},
   "outputs": [],
   "source": []
  },
  {
   "cell_type": "code",
   "execution_count": null,
   "metadata": {},
   "outputs": [],
   "source": []
  },
  {
   "cell_type": "code",
   "execution_count": null,
   "metadata": {},
   "outputs": [],
   "source": []
  },
  {
   "cell_type": "code",
   "execution_count": null,
   "metadata": {},
   "outputs": [],
   "source": []
  }
 ],
 "metadata": {
  "kernelspec": {
   "display_name": "Python 3",
   "language": "python",
   "name": "python3"
  },
  "language_info": {
   "codemirror_mode": {
    "name": "ipython",
    "version": 3
   },
   "file_extension": ".py",
   "mimetype": "text/x-python",
   "name": "python",
   "nbconvert_exporter": "python",
   "pygments_lexer": "ipython3",
   "version": "3.10.0"
  }
 },
 "nbformat": 4,
 "nbformat_minor": 2
}
